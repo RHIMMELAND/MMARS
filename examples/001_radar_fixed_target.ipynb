{
 "cells": [
  {
   "cell_type": "markdown",
   "metadata": {},
   "source": [
    "# Example 001: Radar fixed target"
   ]
  },
  {
   "cell_type": "code",
   "execution_count": 1,
   "metadata": {},
   "outputs": [
    {
     "name": "stdout",
     "output_type": "stream",
     "text": [
      "C:\\Users\\malth\\OneDrive - Aarhus Universitet\\Dokumenter\\AAU-Studie\\10. semester\\NEW GIT\\MMARS\n"
     ]
    }
   ],
   "source": [
    "import os\n",
    "\n",
    "os.chdir(r\"C:\\Users\\malth\\OneDrive - Aarhus Universitet\\Dokumenter\\AAU-Studie\\10. semester\\NEW GIT\\MMARS\")\n",
    "print(os.getcwd())  # Prints current working directory"
   ]
  },
  {
   "cell_type": "code",
   "execution_count": 2,
   "metadata": {},
   "outputs": [],
   "source": [
    "import numpy as np\n",
    "import matplotlib.pyplot as plt\n",
    "\n",
    "import mmars"
   ]
  },
  {
   "cell_type": "markdown",
   "metadata": {},
   "source": [
    "## Setting up the radar"
   ]
  },
  {
   "cell_type": "code",
   "execution_count": null,
   "metadata": {},
   "outputs": [
    {
     "name": "stdout",
     "output_type": "stream",
     "text": [
      "Maximum unambiguous range: 99.93 m\n",
      "Maximum unambiguous IF frequency: 20.00 MHz\n",
      "Maximum unambiguous velocity: 37.93 m/s\n",
      "Maximum unambiguous angle: 90.00 degrees\n",
      "SNR: 10 dB at 10 m\n"
     ]
    }
   ],
   "source": [
    "radar_model_1 = mmars.FmcwRadar(position=np.array([[0,0]]))\n",
    "radar_model_1.show_parameters()"
   ]
  },
  {
   "cell_type": "code",
   "execution_count": null,
   "metadata": {},
   "outputs": [],
   "source": [
    "radar_model_1.run_simulation()\n",
    "radar.show_results()"
   ]
  }
 ],
 "metadata": {
  "kernelspec": {
   "display_name": "base",
   "language": "python",
   "name": "python3"
  },
  "language_info": {
   "codemirror_mode": {
    "name": "ipython",
    "version": 3
   },
   "file_extension": ".py",
   "mimetype": "text/x-python",
   "name": "python",
   "nbconvert_exporter": "python",
   "pygments_lexer": "ipython3",
   "version": "3.9.12"
  }
 },
 "nbformat": 4,
 "nbformat_minor": 2
}
