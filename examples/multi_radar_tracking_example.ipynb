{
 "cells": [
  {
   "cell_type": "code",
   "execution_count": 37,
   "id": "fa24bf02",
   "metadata": {},
   "outputs": [],
   "source": [
    "import numpy as np\n",
    "import matplotlib.pyplot as plt\n",
    "import os\n",
    "import sys\n",
    "from tqdm import tqdm\n",
    "from scipy.optimize import minimize\n",
    "parent_dir = os.path.dirname(os.getcwd())\n",
    "os.chdir(parent_dir)\n",
    "import mmars"
   ]
  },
  {
   "cell_type": "code",
   "execution_count": 38,
   "id": "ba1ad344",
   "metadata": {},
   "outputs": [],
   "source": [
    "min_width, max_width, num_radars = 0, 0, 3\n",
    "radar_models = [mmars.FmcwRadar(position=np.array([[pos_x,0]]), signalNoiseRatio=[10, 10], N_chirps=1) for pos_x in np.linspace(min_width, max_width, num_radars)]"
   ]
  },
  {
   "cell_type": "code",
   "execution_count": 39,
   "id": "887e2ebe",
   "metadata": {},
   "outputs": [],
   "source": [
    "T_frame = .1\n",
    "target_model = mmars.Target(start_position=np.array([[0.001,5.001]]), start_velocity=1., T_total=10., T_frame=T_frame)\n",
    "target_model.generate_trajectory(trajectory_type=\"sinusoidal\")\n",
    "target_ground_truth = target_model.get_trajectory()"
   ]
  },
  {
   "cell_type": "code",
   "execution_count": 40,
   "id": "dd75acf5",
   "metadata": {},
   "outputs": [
    {
     "name": "stdout",
     "output_type": "stream",
     "text": [
      "Running simulation with <mmars.fmcwRadar.FmcwRadar object at 0x000001AE6FF1EA10> and <mmars.target.Target object at 0x000001AE710F0E10>\n"
     ]
    },
    {
     "name": "stderr",
     "output_type": "stream",
     "text": [
      "100%|██████████| 100/100 [00:00<00:00, 320.52it/s]\n"
     ]
    }
   ],
   "source": [
    "mrblat_simulation = mmars.MRBLaT_Functions(radar_models[1], target_model)\n",
    "mrblat_simulation.run()\n",
    "mrblat_simulation.run_tracking()"
   ]
  },
  {
   "cell_type": "code",
   "execution_count": 41,
   "id": "f29fd722",
   "metadata": {},
   "outputs": [
    {
     "name": "stdout",
     "output_type": "stream",
     "text": [
      "Running simulation with <mmars.fmcwRadar.FmcwRadar object at 0x000001AE6FF1DD10> and <mmars.target.Target object at 0x000001AE710F0E10>\n"
     ]
    },
    {
     "name": "stderr",
     "output_type": "stream",
     "text": [
      "100%|██████████| 100/100 [00:00<00:00, 340.87it/s]\n"
     ]
    },
    {
     "name": "stdout",
     "output_type": "stream",
     "text": [
      "Running simulation with <mmars.fmcwRadar.FmcwRadar object at 0x000001AE6FF1EA10> and <mmars.target.Target object at 0x000001AE710F0E10>\n"
     ]
    },
    {
     "name": "stderr",
     "output_type": "stream",
     "text": [
      "100%|██████████| 100/100 [00:00<00:00, 293.39it/s]\n"
     ]
    },
    {
     "name": "stdout",
     "output_type": "stream",
     "text": [
      "Running simulation with <mmars.fmcwRadar.FmcwRadar object at 0x000001AE71106850> and <mmars.target.Target object at 0x000001AE710F0E10>\n"
     ]
    },
    {
     "name": "stderr",
     "output_type": "stream",
     "text": [
      "100%|██████████| 100/100 [00:00<00:00, 373.18it/s]\n"
     ]
    }
   ],
   "source": [
    "# HARDCODED MRBLaT\n",
    "radar_model_01 = radar_models[0]\n",
    "radar_model_02 = radar_models[1]\n",
    "radar_model_03 = radar_models[2]\n",
    "\n",
    "target_model = target_model\n",
    "\n",
    "mrblat_simulation_01 = mmars.MRBLaT_Functions(radar_model_01, target_model)\n",
    "mrblat_simulation_01.run()\n",
    "mrblat_simulation_01_data = mrblat_simulation_01.get_data()\n",
    "mrblat_simulation_02 = mmars.MRBLaT_Functions(radar_model_02, target_model)\n",
    "mrblat_simulation_02.run()\n",
    "mrblat_simulation_02_data = mrblat_simulation_02.get_data()\n",
    "mrblat_simulation_03 = mmars.MRBLaT_Functions(radar_model_03, target_model)\n",
    "mrblat_simulation_03.run()\n",
    "mrblat_simulation_03_data = mrblat_simulation_03.get_data()"
   ]
  },
  {
   "cell_type": "code",
   "execution_count": null,
   "id": "2c9e4061",
   "metadata": {},
   "outputs": [
    {
     "name": "stderr",
     "output_type": "stream",
     "text": [
      "  0%|          | 0/99 [00:00<?, ?it/s]"
     ]
    },
    {
     "name": "stderr",
     "output_type": "stream",
     "text": [
      " 22%|██▏       | 22/99 [00:20<01:12,  1.06it/s]\n"
     ]
    },
    {
     "ename": "KeyboardInterrupt",
     "evalue": "",
     "output_type": "error",
     "traceback": [
      "\u001b[1;31m---------------------------------------------------------------------------\u001b[0m",
      "\u001b[1;31mKeyboardInterrupt\u001b[0m                         Traceback (most recent call last)",
      "Cell \u001b[1;32mIn[58], line 25\u001b[0m\n\u001b[0;32m     23\u001b[0m x0 \u001b[38;5;241m=\u001b[39m [EPSILON_bar_01[\u001b[38;5;241m-\u001b[39m\u001b[38;5;241m1\u001b[39m][\u001b[38;5;241m0\u001b[39m], EPSILON_bar_01[\u001b[38;5;241m-\u001b[39m\u001b[38;5;241m1\u001b[39m][\u001b[38;5;241m1\u001b[39m], EPSILON_bbar_01[\u001b[38;5;241m-\u001b[39m\u001b[38;5;241m1\u001b[39m][\u001b[38;5;241m0\u001b[39m,\u001b[38;5;241m0\u001b[39m], EPSILON_bbar_01[\u001b[38;5;241m-\u001b[39m\u001b[38;5;241m1\u001b[39m][\u001b[38;5;241m1\u001b[39m,\u001b[38;5;241m1\u001b[39m]]\n\u001b[0;32m     24\u001b[0m data_fourier \u001b[38;5;241m=\u001b[39m np\u001b[38;5;241m.\u001b[39mfft\u001b[38;5;241m.\u001b[39mfft(mrblat_simulation_01_data[frame_idx],axis\u001b[38;5;241m=\u001b[39m\u001b[38;5;241m-\u001b[39m\u001b[38;5;241m1\u001b[39m)\u001b[38;5;241m.\u001b[39mflatten()\n\u001b[1;32m---> 25\u001b[0m D_KL_res_01 \u001b[38;5;241m=\u001b[39m \u001b[43mminimize\u001b[49m\u001b[43m(\u001b[49m\u001b[43mmrblat_simulation_01\u001b[49m\u001b[38;5;241;43m.\u001b[39;49m\u001b[43mD_KL\u001b[49m\u001b[43m,\u001b[49m\u001b[43m \u001b[49m\u001b[43mx0\u001b[49m\u001b[38;5;241;43m=\u001b[39;49m\u001b[43mx0\u001b[49m\u001b[43m,\u001b[49m\u001b[43m \u001b[49m\u001b[43mbounds\u001b[49m\u001b[38;5;241;43m=\u001b[39;49m\u001b[43mbound\u001b[49m\u001b[43m,\u001b[49m\u001b[43m \u001b[49m\u001b[43margs\u001b[49m\u001b[38;5;241;43m=\u001b[39;49m\u001b[43m(\u001b[49m\u001b[43mdata_fourier\u001b[49m\u001b[43m,\u001b[49m\u001b[43m \u001b[49m\u001b[43mEPSILON_bar_01\u001b[49m\u001b[43m[\u001b[49m\u001b[38;5;241;43m-\u001b[39;49m\u001b[38;5;241;43m1\u001b[39;49m\u001b[43m]\u001b[49m\u001b[43m[\u001b[49m\u001b[38;5;241;43m0\u001b[39;49m\u001b[43m]\u001b[49m\u001b[43m,\u001b[49m\u001b[43m \u001b[49m\u001b[43mEPSILON_bar_01\u001b[49m\u001b[43m[\u001b[49m\u001b[38;5;241;43m-\u001b[39;49m\u001b[38;5;241;43m1\u001b[39;49m\u001b[43m]\u001b[49m\u001b[43m[\u001b[49m\u001b[38;5;241;43m1\u001b[39;49m\u001b[43m]\u001b[49m\u001b[43m,\u001b[49m\u001b[43m \u001b[49m\u001b[43m(\u001b[49m\u001b[38;5;241;43m1\u001b[39;49m\u001b[43m,\u001b[49m\u001b[38;5;241;43m1\u001b[39;49m\u001b[43m,\u001b[49m\u001b[38;5;241;43m1\u001b[39;49m\u001b[43m,\u001b[49m\u001b[38;5;241;43m1\u001b[39;49m\u001b[43m)\u001b[49m\u001b[43m,\u001b[49m\u001b[43m \u001b[49m\u001b[38;5;28;43;01mFalse\u001b[39;49;00m\u001b[43m)\u001b[49m\u001b[43m,\u001b[49m\u001b[43m \u001b[49m\u001b[43mmethod\u001b[49m\u001b[38;5;241;43m=\u001b[39;49m\u001b[38;5;124;43m'\u001b[39;49m\u001b[38;5;124;43mnelder-mead\u001b[39;49m\u001b[38;5;124;43m'\u001b[39;49m\u001b[43m,\u001b[49m\u001b[43m \u001b[49m\u001b[43moptions\u001b[49m\u001b[38;5;241;43m=\u001b[39;49m\u001b[43m{\u001b[49m\u001b[38;5;124;43m'\u001b[39;49m\u001b[38;5;124;43mmaxiter\u001b[39;49m\u001b[38;5;124;43m'\u001b[39;49m\u001b[43m:\u001b[49m\u001b[43m \u001b[49m\u001b[38;5;241;43m100\u001b[39;49m\u001b[43m}\u001b[49m\u001b[43m)\u001b[49m\n\u001b[0;32m     27\u001b[0m EPSILON_bar_01 \u001b[38;5;241m=\u001b[39m np\u001b[38;5;241m.\u001b[39mvstack((EPSILON_bar_01, np\u001b[38;5;241m.\u001b[39marray([D_KL_res_01\u001b[38;5;241m.\u001b[39mx[\u001b[38;5;241m0\u001b[39m], D_KL_res_01\u001b[38;5;241m.\u001b[39mx[\u001b[38;5;241m1\u001b[39m], regularisation, regularisation])))\n\u001b[0;32m     28\u001b[0m EPSILON_bbar_01 \u001b[38;5;241m=\u001b[39m np\u001b[38;5;241m.\u001b[39mvstack((EPSILON_bbar_01, np\u001b[38;5;241m.\u001b[39marray([[[D_KL_res_01\u001b[38;5;241m.\u001b[39mx[\u001b[38;5;241m2\u001b[39m], \u001b[38;5;241m0\u001b[39m, \u001b[38;5;241m0\u001b[39m, \u001b[38;5;241m0\u001b[39m],[\u001b[38;5;241m0\u001b[39m, D_KL_res_01\u001b[38;5;241m.\u001b[39mx[\u001b[38;5;241m3\u001b[39m], \u001b[38;5;241m0\u001b[39m, \u001b[38;5;241m0\u001b[39m],[\u001b[38;5;241m0\u001b[39m, \u001b[38;5;241m0\u001b[39m, regularisation, \u001b[38;5;241m0\u001b[39m],[\u001b[38;5;241m0\u001b[39m, \u001b[38;5;241m0\u001b[39m, \u001b[38;5;241m0\u001b[39m, regularisation]]])))\n",
      "File \u001b[1;32m~\\AppData\\Local\\Packages\\PythonSoftwareFoundation.Python.3.11_qbz5n2kfra8p0\\LocalCache\\local-packages\\Python311\\site-packages\\scipy\\optimize\\_minimize.py:726\u001b[0m, in \u001b[0;36mminimize\u001b[1;34m(fun, x0, args, method, jac, hess, hessp, bounds, constraints, tol, callback, options)\u001b[0m\n\u001b[0;32m    723\u001b[0m callback \u001b[38;5;241m=\u001b[39m _wrap_callback(callback, meth)\n\u001b[0;32m    725\u001b[0m \u001b[38;5;28;01mif\u001b[39;00m meth \u001b[38;5;241m==\u001b[39m \u001b[38;5;124m'\u001b[39m\u001b[38;5;124mnelder-mead\u001b[39m\u001b[38;5;124m'\u001b[39m:\n\u001b[1;32m--> 726\u001b[0m     res \u001b[38;5;241m=\u001b[39m \u001b[43m_minimize_neldermead\u001b[49m\u001b[43m(\u001b[49m\u001b[43mfun\u001b[49m\u001b[43m,\u001b[49m\u001b[43m \u001b[49m\u001b[43mx0\u001b[49m\u001b[43m,\u001b[49m\u001b[43m \u001b[49m\u001b[43margs\u001b[49m\u001b[43m,\u001b[49m\u001b[43m \u001b[49m\u001b[43mcallback\u001b[49m\u001b[43m,\u001b[49m\u001b[43m \u001b[49m\u001b[43mbounds\u001b[49m\u001b[38;5;241;43m=\u001b[39;49m\u001b[43mbounds\u001b[49m\u001b[43m,\u001b[49m\n\u001b[0;32m    727\u001b[0m \u001b[43m                               \u001b[49m\u001b[38;5;241;43m*\u001b[39;49m\u001b[38;5;241;43m*\u001b[39;49m\u001b[43moptions\u001b[49m\u001b[43m)\u001b[49m\n\u001b[0;32m    728\u001b[0m \u001b[38;5;28;01melif\u001b[39;00m meth \u001b[38;5;241m==\u001b[39m \u001b[38;5;124m'\u001b[39m\u001b[38;5;124mpowell\u001b[39m\u001b[38;5;124m'\u001b[39m:\n\u001b[0;32m    729\u001b[0m     res \u001b[38;5;241m=\u001b[39m _minimize_powell(fun, x0, args, callback, bounds, \u001b[38;5;241m*\u001b[39m\u001b[38;5;241m*\u001b[39moptions)\n",
      "File \u001b[1;32m~\\AppData\\Local\\Packages\\PythonSoftwareFoundation.Python.3.11_qbz5n2kfra8p0\\LocalCache\\local-packages\\Python311\\site-packages\\scipy\\optimize\\_optimize.py:895\u001b[0m, in \u001b[0;36m_minimize_neldermead\u001b[1;34m(func, x0, args, callback, maxiter, maxfev, disp, return_all, initial_simplex, xatol, fatol, adaptive, bounds, **unknown_options)\u001b[0m\n\u001b[0;32m    893\u001b[0m \u001b[38;5;28;01mif\u001b[39;00m bounds \u001b[38;5;129;01mis\u001b[39;00m \u001b[38;5;129;01mnot\u001b[39;00m \u001b[38;5;28;01mNone\u001b[39;00m:\n\u001b[0;32m    894\u001b[0m     xcc \u001b[38;5;241m=\u001b[39m np\u001b[38;5;241m.\u001b[39mclip(xcc, lower_bound, upper_bound)\n\u001b[1;32m--> 895\u001b[0m fxcc \u001b[38;5;241m=\u001b[39m \u001b[43mfunc\u001b[49m\u001b[43m(\u001b[49m\u001b[43mxcc\u001b[49m\u001b[43m)\u001b[49m\n\u001b[0;32m    897\u001b[0m \u001b[38;5;28;01mif\u001b[39;00m fxcc \u001b[38;5;241m<\u001b[39m fsim[\u001b[38;5;241m-\u001b[39m\u001b[38;5;241m1\u001b[39m]:\n\u001b[0;32m    898\u001b[0m     sim[\u001b[38;5;241m-\u001b[39m\u001b[38;5;241m1\u001b[39m] \u001b[38;5;241m=\u001b[39m xcc\n",
      "File \u001b[1;32m~\\AppData\\Local\\Packages\\PythonSoftwareFoundation.Python.3.11_qbz5n2kfra8p0\\LocalCache\\local-packages\\Python311\\site-packages\\scipy\\optimize\\_optimize.py:542\u001b[0m, in \u001b[0;36m_wrap_scalar_function_maxfun_validation.<locals>.function_wrapper\u001b[1;34m(x, *wrapper_args)\u001b[0m\n\u001b[0;32m    540\u001b[0m ncalls[\u001b[38;5;241m0\u001b[39m] \u001b[38;5;241m+\u001b[39m\u001b[38;5;241m=\u001b[39m \u001b[38;5;241m1\u001b[39m\n\u001b[0;32m    541\u001b[0m \u001b[38;5;66;03m# A copy of x is sent to the user function (gh13740)\u001b[39;00m\n\u001b[1;32m--> 542\u001b[0m fx \u001b[38;5;241m=\u001b[39m \u001b[43mfunction\u001b[49m\u001b[43m(\u001b[49m\u001b[43mnp\u001b[49m\u001b[38;5;241;43m.\u001b[39;49m\u001b[43mcopy\u001b[49m\u001b[43m(\u001b[49m\u001b[43mx\u001b[49m\u001b[43m)\u001b[49m\u001b[43m,\u001b[49m\u001b[43m \u001b[49m\u001b[38;5;241;43m*\u001b[39;49m\u001b[43m(\u001b[49m\u001b[43mwrapper_args\u001b[49m\u001b[43m \u001b[49m\u001b[38;5;241;43m+\u001b[39;49m\u001b[43m \u001b[49m\u001b[43margs\u001b[49m\u001b[43m)\u001b[49m\u001b[43m)\u001b[49m\n\u001b[0;32m    543\u001b[0m \u001b[38;5;66;03m# Ideally, we'd like to a have a true scalar returned from f(x). For\u001b[39;00m\n\u001b[0;32m    544\u001b[0m \u001b[38;5;66;03m# backwards-compatibility, also allow np.array([1.3]),\u001b[39;00m\n\u001b[0;32m    545\u001b[0m \u001b[38;5;66;03m# np.array([[1.3]]) etc.\u001b[39;00m\n\u001b[0;32m    546\u001b[0m \u001b[38;5;28;01mif\u001b[39;00m \u001b[38;5;129;01mnot\u001b[39;00m np\u001b[38;5;241m.\u001b[39misscalar(fx):\n",
      "File \u001b[1;32mc:\\Users\\rasmu\\Documents\\GitHub\\MMARS\\mmars\\mrblatFunctions.py:147\u001b[0m, in \u001b[0;36mMRBLaT_Functions.D_KL\u001b[1;34m(self, params, Z_data, phi_bar_last_x, phi_bar_last_y, outputmode, print_output)\u001b[0m\n\u001b[0;32m    144\u001b[0m s_n \u001b[38;5;241m=\u001b[39m \u001b[38;5;28mself\u001b[39m\u001b[38;5;241m.\u001b[39m__radar_setup\u001b[38;5;241m.\u001b[39mget_S_signal\u001b[38;5;241m.\u001b[39mflatten()[:, np\u001b[38;5;241m.\u001b[39mnewaxis]\u001b[38;5;241m/\u001b[39mnp\u001b[38;5;241m.\u001b[39msqrt(\u001b[38;5;241m256\u001b[39m)\n\u001b[0;32m    146\u001b[0m \u001b[38;5;66;03m# Compute the alpha_hat value\u001b[39;00m\n\u001b[1;32m--> 147\u001b[0m alpha_hat_xy \u001b[38;5;241m=\u001b[39m np\u001b[38;5;241m.\u001b[39mabs(\u001b[38;5;28;43mself\u001b[39;49m\u001b[38;5;241;43m.\u001b[39;49m\u001b[43malpha_hat\u001b[49m\u001b[43m(\u001b[49m\u001b[43mS_N_lack\u001b[49m\u001b[43m,\u001b[49m\u001b[43m \u001b[49m\u001b[43mZ_data\u001b[49m\u001b[43m)\u001b[49m)\n\u001b[0;32m    149\u001b[0m s_n_H \u001b[38;5;241m=\u001b[39m s_n\u001b[38;5;241m.\u001b[39mconj()\u001b[38;5;241m.\u001b[39mT\n\u001b[0;32m    151\u001b[0m term_1 \u001b[38;5;241m=\u001b[39m \u001b[38;5;241m-\u001b[39mnp\u001b[38;5;241m.\u001b[39mreal(alpha_hat_xy \u001b[38;5;241m*\u001b[39m (s_n_H \u001b[38;5;241m@\u001b[39m \u001b[38;5;28mself\u001b[39m\u001b[38;5;241m.\u001b[39m__lambda_z \u001b[38;5;241m@\u001b[39m Z_data))\n",
      "File \u001b[1;32mc:\\Users\\rasmu\\Documents\\GitHub\\MMARS\\mmars\\mrblatFunctions.py:39\u001b[0m, in \u001b[0;36mMRBLaT_Functions.alpha_hat\u001b[1;34m(self, s_n, data_fourier)\u001b[0m\n\u001b[0;32m     36\u001b[0m     \u001b[38;5;28mself\u001b[39m\u001b[38;5;241m.\u001b[39m__x_r \u001b[38;5;241m=\u001b[39m \u001b[38;5;28mself\u001b[39m\u001b[38;5;241m.\u001b[39m__position[\u001b[38;5;241m0\u001b[39m]\n\u001b[0;32m     37\u001b[0m     \u001b[38;5;28mself\u001b[39m\u001b[38;5;241m.\u001b[39m__y_r \u001b[38;5;241m=\u001b[39m \u001b[38;5;28mself\u001b[39m\u001b[38;5;241m.\u001b[39m__position[\u001b[38;5;241m1\u001b[39m]\n\u001b[1;32m---> 39\u001b[0m \u001b[38;5;28;01mdef\u001b[39;00m\u001b[38;5;250m \u001b[39m\u001b[38;5;21malpha_hat\u001b[39m(\u001b[38;5;28mself\u001b[39m, s_n, data_fourier):\n\u001b[0;32m     40\u001b[0m     \u001b[38;5;66;03m# Compute conjugate transpose once\u001b[39;00m\n\u001b[0;32m     41\u001b[0m     s_n_H \u001b[38;5;241m=\u001b[39m s_n\u001b[38;5;241m.\u001b[39mconj()\u001b[38;5;241m.\u001b[39mT  \u001b[38;5;66;03m# Conjugate transpose\u001b[39;00m\n\u001b[0;32m     43\u001b[0m     \u001b[38;5;28;01mreturn\u001b[39;00m (s_n_H \u001b[38;5;241m@\u001b[39m \u001b[38;5;28mself\u001b[39m\u001b[38;5;241m.\u001b[39m__lambda_z \u001b[38;5;241m@\u001b[39m data_fourier) \u001b[38;5;241m/\u001b[39m (s_n_H \u001b[38;5;241m@\u001b[39m \u001b[38;5;28mself\u001b[39m\u001b[38;5;241m.\u001b[39m__lambda_z \u001b[38;5;241m@\u001b[39m s_n)\n",
      "\u001b[1;31mKeyboardInterrupt\u001b[0m: "
     ]
    }
   ],
   "source": [
    "PHI_bar = np.array([[target_ground_truth[0][0], target_ground_truth[1][0],target_ground_truth[2][0], target_ground_truth[3][0]]]) # First position, (x,y) and (vx,vy) at t=0\n",
    "PHI_bbar = 0.01*np.eye(4)[np.newaxis,:,:] # Initial guess for the covariance matrix of the target model. The position (x,y) and the variance (eps_barbar_x, eps_barbar_y) at t=0\n",
    "PHI_bar_no_msg_parsing = PHI_bar\n",
    "PHI_bbar_no_msg_parsing = PHI_bbar\n",
    "EPSILON_bar_01 = EPSILON_bar_02 = EPSILON_bar_03 = PHI_bar# np.array([[PHI_bar[0][0], PHI_bar[0][1], 0, 0]])\n",
    "EPSILON_bbar_01 = EPSILON_bbar_02 = EPSILON_bbar_03 = PHI_bbar# np.array([[[1e-1, 0, 0, 0],[0, 1e-1, 0, 0],[0, 0, 1e-10, 0],[0, 0, 0, 1e-10]]])\n",
    "bound = [(-100,100), (0.1,100), (0.01, 10), (0.01, 10)]\n",
    "N_ite = 1\n",
    "\n",
    "T = np.array([[1,0,T_frame,0],[0,1,0,T_frame],[0,0,1,0],[0,0,0,1]])\n",
    "T_T = T.T\n",
    "T_inv = np.linalg.pinv(T)\n",
    "G = np.array([[T_frame**2/2, 0, 0, 0],[0, T_frame**2/2, 0, 0],[0, 0, T_frame, 0],[0, 0, 0, T_frame]])\n",
    "G_inv_T = np.linalg.pinv(G).T\n",
    "G_inv = np.linalg.pinv(G)\n",
    "lambda_a = np.eye(4)*.01\n",
    "\n",
    "N_estimates = 1\n",
    "\n",
    "regularisation = 0\n",
    "\n",
    "for frame_idx in tqdm(range(1,mrblat_simulation_02.get_number_of_frames())):\n",
    "    x0 = [EPSILON_bar_01[-1][0], EPSILON_bar_01[-1][1], EPSILON_bbar_01[-1][0,0], EPSILON_bbar_01[-1][1,1]]\n",
    "    data_fourier = np.fft.fft(mrblat_simulation_01_data[frame_idx],axis=-1).flatten()\n",
    "    D_KL_res_01 = minimize(mrblat_simulation_01.D_KL, x0=x0, bounds=bound, args=(data_fourier, EPSILON_bar_01[-1][0], EPSILON_bar_01[-1][1], (1,1,1,1), False), method='nelder-mead', options={'maxiter': 100})\n",
    "\n",
    "    EPSILON_bar_01 = np.vstack((EPSILON_bar_01, np.array([D_KL_res_01.x[0], D_KL_res_01.x[1], regularisation, regularisation])))\n",
    "    EPSILON_bbar_01 = np.vstack((EPSILON_bbar_01, np.array([[[D_KL_res_01.x[2], 0, 0, 0],[0, D_KL_res_01.x[3], 0, 0],[0, 0, regularisation, 0],[0, 0, 0, regularisation]]])))\n",
    "\n",
    "    PHI_bar = np.vstack((PHI_bar, np.array([[D_KL_res_01.x[0], D_KL_res_01.x[1], 0, 0]]) ))\n",
    "    PHI_bbar = np.vstack((PHI_bbar, np.array([[D_KL_res_01.x[2], 0, 0, 0],[0,D_KL_res_01.x[3],0,0],[0,0,0.0,0],[0,0,0,0]])[np.newaxis,:,:] ))\n",
    "    PHI_bar_no_msg_parsing = np.vstack((PHI_bar_no_msg_parsing, np.array([[D_KL_res_01.x[0], D_KL_res_01.x[1], 0, 0]]) ))\n",
    "    PHI_bbar_no_msg_parsing = np.vstack((PHI_bbar_no_msg_parsing, np.array([[D_KL_res_01.x[2], 0, 0, 0],[0,D_KL_res_01.x[3],0,0],[0,0,0,0],[0,0,0,0]])[np.newaxis,:,:] ))\n",
    "\n",
    "    if N_estimates < 200:\n",
    "        N_estimates += 1\n",
    "\n",
    "    N_estimates_range = range(len(PHI_bar)-N_estimates-1, len(PHI_bar)-1)\n",
    "\n",
    "    for ite in range(N_ite):\n",
    "        for n_estimates in N_estimates_range:\n",
    "            if (n_estimates > 0) and (n_estimates < N_estimates-1):\n",
    "                eps_np1_to_n_mean = T_inv@PHI_bar[n_estimates+1] \n",
    "                esp_nm1_to_n_mean = T@PHI_bar[n_estimates-1] \n",
    "                eps_np1_to_n_cov = T_T@G_inv_T@lambda_a@G_inv@T \n",
    "                esp_nm1_to_n_cov = G_inv_T@lambda_a@G\n",
    "\n",
    "                PHI_bbar[n_estimates] = np.linalg.pinv(\n",
    "                    np.linalg.pinv(EPSILON_bbar_01[n_estimates])\n",
    "                    +np.linalg.pinv(eps_np1_to_n_cov)\n",
    "                    +np.linalg.pinv(esp_nm1_to_n_cov)\n",
    "                    )\n",
    "                \n",
    "                PHI_bar[n_estimates] = PHI_bbar[n_estimates]@(\n",
    "                    np.linalg.pinv(EPSILON_bbar_01[n_estimates])@EPSILON_bar_01[n_estimates] \n",
    "                    +np.linalg.pinv(eps_np1_to_n_cov)@eps_np1_to_n_mean\n",
    "                    +np.linalg.pinv(esp_nm1_to_n_cov)@esp_nm1_to_n_mean\n",
    "                    )\n",
    "                \n",
    "            elif (n_estimates < N_estimates-1):\n",
    "                eps_np1_to_n_mean = T_inv@PHI_bar[n_estimates+1]\n",
    "                eps_np1_to_n_cov = T_T@G_inv_T@lambda_a@G_inv@T \n",
    "\n",
    "                PHI_bbar[n_estimates] = np.linalg.pinv(\n",
    "                    np.linalg.pinv(EPSILON_bbar_01[n_estimates])\n",
    "                    +np.linalg.pinv(eps_np1_to_n_cov) \n",
    "                    )\n",
    "                PHI_bar[n_estimates] = PHI_bbar[n_estimates]@(\n",
    "                    np.linalg.pinv(EPSILON_bbar_01[n_estimates])@EPSILON_bar_01[n_estimates] \n",
    "                    +np.linalg.pinv(eps_np1_to_n_cov)@eps_np1_to_n_mean \n",
    "                    )\n",
    "            elif (n_estimates > 0):\n",
    "                print(\"ffff\")\n",
    "                esp_nm1_to_n_mean = T@PHI_bar[n_estimates-1]\n",
    "                esp_nm1_to_n_cov = G_inv_T@lambda_a@G\n",
    "\n",
    "                PHI_bbar[n_estimates] = np.linalg.pinv(\n",
    "                    np.linalg.pinv(EPSILON_bbar_01[n_estimates])\n",
    "                    +np.linalg.pinv(esp_nm1_to_n_cov) \n",
    "                    )\n",
    "                PHI_bar[n_estimates] = PHI_bbar[n_estimates]@(\n",
    "                    np.linalg.pinv(EPSILON_bbar_01[n_estimates])@EPSILON_bar_01[n_estimates] \n",
    "                    +np.linalg.pinv(esp_nm1_to_n_cov)@esp_nm1_to_n_mean \n",
    "                    )\n",
    "            \n",
    "        if len(PHI_bar) > 1:\n",
    "            alpha = len(PHI_bar) + 1 \n",
    "            beta = 0\n",
    "            for _n_ in N_estimates_range:\n",
    "                beta += np.linalg.norm(G_inv@(PHI_bar[_n_]-T@PHI_bar[_n_-1]))**2 + G_inv@(PHI_bbar[_n_] + T@PHI_bbar[_n_-1]@T_T)@G_inv_T\n",
    "            lambda_a = np.linalg.pinv(beta/alpha)\n"
   ]
  },
  {
   "cell_type": "code",
   "execution_count": 57,
   "id": "793414b9",
   "metadata": {},
   "outputs": [
    {
     "name": "stdout",
     "output_type": "stream",
     "text": [
      "(26, 4)\n"
     ]
    },
    {
     "data": {
      "image/png": "[encoded data removed]",
      "text/plain": [
       "<Figure size 1000x500 with 1 Axes>"
      ]
     },
     "metadata": {},
     "output_type": "display_data"
    }
   ],
   "source": [
    "fig, ax = plt.subplots(1, 1, figsize=(10, 5))\n",
    "ax.scatter(PHI_bar_no_msg_parsing[:,0], PHI_bar_no_msg_parsing[:,1], label='Estimated Trajectory (No Message Parsing)', marker = '+', s=50, color='red')#, cmap='viridis', c=np.linspace(0,1,len(PHI_bar_no_msg_parsing[:,0])))\n",
    "ax.scatter(PHI_bar[:,0], PHI_bar[:,1], label='Estimated Trajectory', cmap='viridis', marker='x', c=np.linspace(1,0,len(PHI_bar[:,0])))#, s=50, color='blue')#\n",
    "ax.plot(target_ground_truth[0], target_ground_truth[1], label='Ground Truth', color='black', linewidth=2)\n",
    "ax.legend()\n",
    "\n",
    "print(PHI_bar.shape)"
   ]
  },
  {
   "cell_type": "code",
   "execution_count": null,
   "id": "b26e5d58",
   "metadata": {},
   "outputs": [
    {
     "data": {
      "text/plain": [
       "array([[ 4.75820803e+000,  1.52003462e+001,  2.56712918e-010,\n",
       "         2.56736022e-010],\n",
       "       [ 6.71959574e+000,  1.62792729e+001,  1.14994376e-001,\n",
       "         1.55898972e-001],\n",
       "       [ 6.19969712e+000,  1.61326531e+001,  2.60237315e-001,\n",
       "         2.81859773e-001],\n",
       "       [ 5.53588244e+000,  1.55023667e+001,  3.84623996e-001,\n",
       "         3.97218240e-001],\n",
       "       [ 4.77452858e+000,  1.47547808e+001,  5.09354137e-001,\n",
       "         5.12864000e-001],\n",
       "       [ 3.92599954e+000,  1.39117299e+001,  6.36068735e-001,\n",
       "         6.29802157e-001],\n",
       "       [ 2.95378352e+000,  1.29443892e+001,  7.56755594e-001,\n",
       "         7.39976524e-001],\n",
       "       [ 1.92829991e+000,  1.19250222e+001,  8.61011061e-001,\n",
       "         8.33165272e-001],\n",
       "       [-1.14408564e+062, -1.14408564e+062,  7.62723763e+062,\n",
       "         7.62723763e+062],\n",
       "       [-7.00916922e+098, -7.00916922e+098,  4.67277948e+099,\n",
       "         4.67277948e+099],\n",
       "       [-2.57231567e+099, -2.57231567e+099,  2.02639574e+100,\n",
       "         2.02639574e+100],\n",
       "       [-8.34913954e+099, -8.34913954e+099,  7.22854215e+100,\n",
       "         7.22854215e+100],\n",
       "       [-2.48181131e+100, -2.48181131e+100,  2.30268860e+101,\n",
       "         2.30268860e+101],\n",
       "       [-6.83796935e+100, -6.83796935e+100,  6.74191969e+101,\n",
       "         6.74191969e+101],\n",
       "       [-1.74480655e+101, -1.74480655e+101,  1.83099302e+102,\n",
       "         1.83099302e+102],\n",
       "       [-4.06442251e+101, -4.06442251e+101,  4.59806568e+102,\n",
       "         4.59806568e+102],\n",
       "       [-8.30194536e+101, -8.30194536e+101,  1.04884580e+103,\n",
       "         1.04884580e+103],\n",
       "       [-1.31170341e+102, -1.31170341e+102,  2.06908226e+103,\n",
       "         2.06908226e+103],\n",
       "       [             inf,              inf,             -inf,\n",
       "                    -inf],\n",
       "       [             nan,              nan,              nan,\n",
       "                     nan],\n",
       "       [             nan,              nan,              nan,\n",
       "                     nan],\n",
       "       [             nan,              nan,              nan,\n",
       "                     nan],\n",
       "       [             nan,              nan,              nan,\n",
       "                     nan],\n",
       "       [             nan,              nan,              nan,\n",
       "                     nan],\n",
       "       [             nan,              nan,              nan,\n",
       "                     nan],\n",
       "       [             nan,              nan,              nan,\n",
       "                     nan],\n",
       "       [             nan,              nan,              nan,\n",
       "                     nan],\n",
       "       [             nan,              nan,              nan,\n",
       "                     nan],\n",
       "       [             nan,              nan,              nan,\n",
       "                     nan]])"
      ]
     },
     "execution_count": 26,
     "metadata": {},
     "output_type": "execute_result"
    }
   ],
   "source": [
    "PHI_bar"
   ]
  },
  {
   "cell_type": "code",
   "execution_count": null,
   "id": "7aa05566",
   "metadata": {},
   "outputs": [],
   "source": []
  }
 ],
 "metadata": {
  "kernelspec": {
   "display_name": "Python 3",
   "language": "python",
   "name": "python3"
  },
  "language_info": {
   "codemirror_mode": {
    "name": "ipython",
    "version": 3
   },
   "file_extension": ".py",
   "mimetype": "text/x-python",
   "name": "python",
   "nbconvert_exporter": "python",
   "pygments_lexer": "ipython3",
   "version": "3.11.9"
  }
 },
 "nbformat": 4,
 "nbformat_minor": 5
}
